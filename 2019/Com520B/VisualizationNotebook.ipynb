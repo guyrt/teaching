{
 "cells": [
  {
   "cell_type": "markdown",
   "metadata": {},
   "source": [
    "Welcome to the Python Plotting Tutorial for Com520!\n",
    "=============================\n",
    "\n",
    "This is intended as a self-guided exercise to help you explore python plotting. Please follow the document, follow the links and read the documentation. I'll be circulating to help you if you have questions."
   ]
  },
  {
   "cell_type": "code",
   "execution_count": 1,
   "metadata": {},
   "outputs": [],
   "source": [
    "# This section imports some important libraries that we'll need.\n",
    "# the most important is the second line. After you run this, \"plt\" will be\n",
    "# the plotting library in python.\n",
    "\n",
    "import numpy\n",
    "import matplotlib.pyplot as plt"
   ]
  },
  {
   "cell_type": "markdown",
   "metadata": {},
   "source": [
    "A super simple chart\n",
    "-----------------------\n",
    "\n",
    "The simplest possible plot is a line chart. See the example below. Answer the following questions:\n",
    "* What variable holds the data?\n",
    "* We only defined one data series. Is it on the y or x axis?\n",
    "* What do the functions `ylabel`, `xlabel`, and `title` do? Remove them to test your idea."
   ]
  },
  {
   "cell_type": "code",
   "execution_count": 2,
   "metadata": {},
   "outputs": [
    {
     "data": {
      "image/png": "[encoded data removed]",
      "text/plain": [
       "<Figure size 432x288 with 1 Axes>"
      ]
     },
     "metadata": {
      "needs_background": "light"
     },
     "output_type": "display_data"
    }
   ],
   "source": [
    "my_data = [1,2.4,-1.3,4]\n",
    "\n",
    "plt.plot(my_data)\n",
    "plt.ylabel(\"yi\")\n",
    "plt.xlabel(\"hi\")\n",
    "plt.title(\"A plot!\")\n",
    "plt.show()"
   ]
  },
  {
   "cell_type": "markdown",
   "metadata": {},
   "source": [
    "** Try This**\n",
    "\n",
    "Using the documentation for `matplotlib.pyplot` found [here](http://matplotlib.org/users/pyplot_tutorial.html) make a plot for the following data set. In this case, you want to plot both x and y values."
   ]
  },
  {
   "cell_type": "code",
   "execution_count": 25,
   "metadata": {},
   "outputs": [],
   "source": [
    "height = [68, 66, 75, 71, 67, 65, 67, 75, 72, 74, 72, 75, 69, 70, 65, 64, 68, 73, 70, 76, 64, 64, 66, 63, 68, 62, 72, 74, 76, 69, 65, 65, 64, 66, 64, 72, 74]\n",
    "shoe_size = [12 ,9 ,12 ,11 ,12 ,8.5 ,9 ,13 ,11 ,12 ,12 ,12 ,10 ,11 ,10 ,8 ,9 ,11 ,8 ,12 ,8 ,9 ,11 ,10 ,9 ,9 ,11 ,11 ,12 ,10 ,8 ,7 ,9 ,10 ,13 ,12 ,11]\n",
    "\n",
    "# put your code here\n",
    "\n"
   ]
  },
  {
   "cell_type": "markdown",
   "metadata": {},
   "source": [
    "*Improving the plot*\n",
    "\n",
    "When I made the plot above, it was a very jumbled line chart, which didn't look very good. Using the [tutorial](http://matplotlib.org/users/pyplot_tutorial.html) figure out how to plot the points as dots rather than as a line chart."
   ]
  },
  {
   "cell_type": "code",
   "execution_count": 26,
   "metadata": {
    "collapsed": true
   },
   "outputs": [],
   "source": [
    "# put your new plot here"
   ]
  },
  {
   "cell_type": "markdown",
   "metadata": {},
   "source": [
    "If you look carefully at the data, you'll find cases where the same exact point shows up twice or more. One trick is to use *alpha* or the transparency of a dot to handle overlapping data. Using the argument `alpha=0.3` in the plot above to make each particular dot slightly transparent.\n",
    "\n"
   ]
  },
  {
   "cell_type": "code",
   "execution_count": 29,
   "metadata": {},
   "outputs": [],
   "source": [
    "# put your code here. Make sure you include axis labels and a title!"
   ]
  },
  {
   "cell_type": "markdown",
   "metadata": {},
   "source": [
    "**Challenge**\n",
    "\n",
    "Last week, we processed the congressional district data to produce a data set with the percent of the working population in each industry compared to the mean and median salary in that district. You opened that data in Excel to produce a plot.\n",
    "\n",
    "Recreate a plot of percent of the district in engineering and the mean salary for that district. Make sure to label your axes.\n",
    "\n",
    "(Hint) remember: all of the python you have learned will work in the notebook. You can still use `open` for instance.\n"
   ]
  },
  {
   "cell_type": "code",
   "execution_count": 31,
   "metadata": {
    "collapsed": true
   },
   "outputs": [],
   "source": [
    "# put your code here."
   ]
  },
  {
   "cell_type": "markdown",
   "metadata": {},
   "source": [
    "Bar charts\n",
    "----------\n",
    "\n",
    "The line charts above are great for cardinal data, but python can do many other kinds of plots. Here, we'll make a bar chart. There are a few differences:\n",
    "\n",
    "* First of all, we still need an x and a y variable. I made a fake set of data for the x axis using `range` and `len`. What are the values in fake_x_data?\n",
    "* Play with the width variable to see what it does to the plot.\n",
    "* Note that we use `xticks` to label our groupings."
   ]
  },
  {
   "cell_type": "code",
   "execution_count": 3,
   "metadata": {},
   "outputs": [
    {
     "data": {
      "image/png": "[encoded data removed]",
      "text/plain": [
       "<Figure size 432x288 with 1 Axes>"
      ]
     },
     "metadata": {
      "needs_background": "light"
     },
     "output_type": "display_data"
    }
   ],
   "source": [
    "month = [\"jan\", \"feb\", \"mar\", 'apr', 'may', 'june', 'july', 'aug', 'sept', 'oct', 'nov', 'dec']\n",
    "high = [45, 48, 52, 58, 64, 69, 72, 73, 67, 59, 51, 47]\n",
    "low = [36, 37, 39, 43, 47, 52, 54, 55, 52, 47, 41, 38]\n",
    "fake_x_data = range(len(month))\n",
    "width = .8\n",
    "plt.bar(fake_x_data, high, width)\n",
    "plt.xticks(fake_x_data, month)\n",
    "plt.show()"
   ]
  },
  {
   "cell_type": "markdown",
   "metadata": {},
   "source": [
    "**Try it**\n",
    "\n",
    "Add another bar to the same chart for the monthly low temperature. Make sure you label your axes!"
   ]
  },
  {
   "cell_type": "markdown",
   "metadata": {},
   "source": [
    "Styles\n",
    "-------\n",
    "\n",
    "Now that we've created some simple charts in python, let's see how to make them beautiful!\n",
    "\n",
    "Matplotlib comes with many pre-built style packages that can be used to make your plots automatically look professional. Try the samples below for a taste. \n",
    "\n",
    "The full set can be found by running the command below:"
   ]
  },
  {
   "cell_type": "code",
   "execution_count": 4,
   "metadata": {},
   "outputs": [
    {
     "data": {
      "text/plain": [
       "['bmh',\n",
       " 'classic',\n",
       " 'dark_background',\n",
       " 'fast',\n",
       " 'fivethirtyeight',\n",
       " 'ggplot',\n",
       " 'grayscale',\n",
       " 'seaborn-bright',\n",
       " 'seaborn-colorblind',\n",
       " 'seaborn-dark-palette',\n",
       " 'seaborn-dark',\n",
       " 'seaborn-darkgrid',\n",
       " 'seaborn-deep',\n",
       " 'seaborn-muted',\n",
       " 'seaborn-notebook',\n",
       " 'seaborn-paper',\n",
       " 'seaborn-pastel',\n",
       " 'seaborn-poster',\n",
       " 'seaborn-talk',\n",
       " 'seaborn-ticks',\n",
       " 'seaborn-white',\n",
       " 'seaborn-whitegrid',\n",
       " 'seaborn',\n",
       " 'Solarize_Light2',\n",
       " 'tableau-colorblind10',\n",
       " '_classic_test']"
      ]
     },
     "execution_count": 4,
     "metadata": {},
     "output_type": "execute_result"
    }
   ],
   "source": [
    "list(plt.style.available)"
   ]
  },
  {
   "cell_type": "markdown",
   "metadata": {},
   "source": [
    "Use a style like this:"
   ]
  },
  {
   "cell_type": "code",
   "execution_count": 5,
   "metadata": {},
   "outputs": [],
   "source": [
    "plt.style.use(\"ggplot\")"
   ]
  },
  {
   "cell_type": "markdown",
   "metadata": {},
   "source": [
    "**Try it!**\n",
    "\n",
    "Set a context like above and rerun any of the plots in your document."
   ]
  },
  {
   "cell_type": "markdown",
   "metadata": {},
   "source": [
    "Histograms\n",
    "----------\n",
    "\n",
    "Pyplot includes excellent support for histograms. A histogram uses the *range* of your data on the x-axis. It divides that range in to buckets (usually with equal widths) and counts the number of values that fall into each bucket. Look at the example below:"
   ]
  },
  {
   "cell_type": "code",
   "execution_count": 6,
   "metadata": {},
   "outputs": [
    {
     "data": {
      "image/png": "[encoded data removed]",
      "text/plain": [
       "<Figure size 432x288 with 1 Axes>"
      ]
     },
     "metadata": {},
     "output_type": "display_data"
    }
   ],
   "source": [
    "fake_data = [1, 1, 1, 1, 2, 2, 3, 4, 5, 1, 2, 3, 4, 6, 7]\n",
    "plt.hist(fake_data)\n",
    "plt.show()"
   ]
  },
  {
   "cell_type": "markdown",
   "metadata": {},
   "source": [
    "**Do it!**\n",
    "\n",
    "Read in the mean salary per congressional district and construct a histogram from that data.\n",
    "* Investigate the `bins` argument. What happens if you set this too high? What if you set it too low? Generally, `sqrt(n)` is a good size for n data points.\n",
    "\n",
    "**Challenge**\n",
    "\n",
    "Get the salary data from [here](https://github.com/guyrt/teaching/tree/master/2017/Com597I/summary) (it's the tsv file).  Import this file into python and build a histogram of salary.\n",
    "\n",
    "* How many bins are a good fit?\n",
    "* There are clearly outliers in this data. Investigate the `range` argument to `hist` to help truncate the plot.\n",
    "* What does the normalize argument do?\n",
    "\n",
    "Hint: [here is the documentation](http://matplotlib.org/api/pyplot_api.html#matplotlib.pyplot.hist)"
   ]
  },
  {
   "cell_type": "code",
   "execution_count": 7,
   "metadata": {},
   "outputs": [],
   "source": [
    "# put your code here."
   ]
  },
  {
   "cell_type": "markdown",
   "metadata": {},
   "source": [
    "Getting help\n",
    "--------------\n",
    "\n",
    "The plotting libraries in python are incredibly rich, and we have barely scratched the surface. \n",
    "\n",
    "The best way to figure out what is possible is to look at the [gallery](http://matplotlib.org/gallery.html) in Matplotlib's documentation. Every plot in the gallery has sample python code that produces exactly that plot. Usually, when I'm trying to make a plot, I start with a gallery example and modify it to suite my needs.\n",
    "\n",
    "The key thing to do when you use these examples is to figure out how to structure the data. If you can map your data format to the format in the example, then you can usually just use the examples directly.\n",
    "\n",
    "For a comprehensive tutorial on plotting see the [official guide](http://matplotlib.org/users/beginner.html) from Matplotlib."
   ]
  },
  {
   "cell_type": "code",
   "execution_count": null,
   "metadata": {
    "collapsed": true
   },
   "outputs": [],
   "source": []
  }
 ],
 "metadata": {
  "kernelspec": {
   "display_name": "Python 3",
   "language": "python",
   "name": "python3"
  },
  "language_info": {
   "codemirror_mode": {
    "name": "ipython",
    "version": 3
   },
   "file_extension": ".py",
   "mimetype": "text/x-python",
   "name": "python",
   "nbconvert_exporter": "python",
   "pygments_lexer": "ipython3",
   "version": "3.7.3"
  }
 },
 "nbformat": 4,
 "nbformat_minor": 2
}
